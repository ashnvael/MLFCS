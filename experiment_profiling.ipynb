{
 "cells": [
  {
   "cell_type": "code",
   "execution_count": 1,
   "metadata": {},
   "outputs": [],
   "source": [
    "import os\n",
    "import numpy as np\n",
    "import matplotlib.pyplot as plt\n",
    "from config.env_config import Config\n",
    "from env_exper import UniswapV3LPGymEnv\n",
    "\n",
    "config = Config()\n",
    "env = UniswapV3LPGymEnv(config)\n",
    "\n",
    "state, _ = env.reset()"
   ]
  },
  {
   "cell_type": "code",
   "execution_count": 2,
   "metadata": {},
   "outputs": [
    {
     "name": "stderr",
     "output_type": "stream",
     "text": [
      "  0%|          | 0/100 [00:00<?, ?it/s]"
     ]
    },
    {
     "name": "stdout",
     "output_type": "stream",
     "text": [
      "[ENTRY] Calling _pool_fees...\n",
      "[DONE] _pool_fees took 0.0000 seconds.\n",
      "[ENTRY] Calling _event_gas_fees...\n",
      "[_event_gas_fees] Starting...\n",
      "Loaded 31 files in 0.0011 seconds.\n",
      "[uniswap_lp_data\\uniswap_lp_data_1.csv] First timestamp read in 0.0038 sec.\n",
      "[uniswap_lp_data\\uniswap_lp_data_1.csv] Last timestamp read in 0.4199 sec. (lines=83500)\n",
      "[uniswap_lp_data\\uniswap_lp_data_1.csv] Total file processed in 0.4237 sec.\n",
      "[uniswap_lp_data\\uniswap_lp_data_10.csv] First timestamp read in 0.0297 sec.\n",
      "[uniswap_lp_data\\uniswap_lp_data_10.csv] Last timestamp read in 0.6158 sec. (lines=97089)\n",
      "[uniswap_lp_data\\uniswap_lp_data_10.csv] Total file processed in 0.6455 sec.\n",
      "[uniswap_lp_data\\uniswap_lp_data_11.csv] First timestamp read in 0.0344 sec.\n",
      "[uniswap_lp_data\\uniswap_lp_data_11.csv] Last timestamp read in 0.6450 sec. (lines=94132)\n",
      "[uniswap_lp_data\\uniswap_lp_data_11.csv] Total file processed in 0.6804 sec.\n",
      "[uniswap_lp_data\\uniswap_lp_data_12.csv] First timestamp read in 0.0349 sec.\n",
      "[uniswap_lp_data\\uniswap_lp_data_12.csv] Last timestamp read in 0.5648 sec. (lines=85851)\n",
      "[uniswap_lp_data\\uniswap_lp_data_12.csv] Total file processed in 0.5998 sec.\n",
      "[uniswap_lp_data\\uniswap_lp_data_13.csv] First timestamp read in 0.0384 sec.\n",
      "[uniswap_lp_data\\uniswap_lp_data_13.csv] Last timestamp read in 0.7735 sec. (lines=122229)\n",
      "[uniswap_lp_data\\uniswap_lp_data_13.csv] Total file processed in 0.8129 sec.\n",
      "[uniswap_lp_data\\uniswap_lp_data_14.csv] First timestamp read in 0.0359 sec.\n",
      "[uniswap_lp_data\\uniswap_lp_data_14.csv] Last timestamp read in 0.5328 sec. (lines=75983)\n",
      "[uniswap_lp_data\\uniswap_lp_data_14.csv] Total file processed in 0.5687 sec.\n",
      "[uniswap_lp_data\\uniswap_lp_data_15.csv] First timestamp read in 0.0387 sec.\n",
      "[uniswap_lp_data\\uniswap_lp_data_15.csv] Last timestamp read in 0.5248 sec. (lines=82620)\n",
      "[uniswap_lp_data\\uniswap_lp_data_15.csv] Total file processed in 0.5635 sec.\n",
      "[uniswap_lp_data\\uniswap_lp_data_16.csv] First timestamp read in 0.0334 sec.\n",
      "[uniswap_lp_data\\uniswap_lp_data_16.csv] Last timestamp read in 0.3900 sec. (lines=62215)\n",
      "[uniswap_lp_data\\uniswap_lp_data_16.csv] Total file processed in 0.4243 sec.\n",
      "[uniswap_lp_data\\uniswap_lp_data_17.csv] First timestamp read in 0.0260 sec.\n",
      "[uniswap_lp_data\\uniswap_lp_data_17.csv] Last timestamp read in 0.3531 sec. (lines=57420)\n",
      "[uniswap_lp_data\\uniswap_lp_data_17.csv] Total file processed in 0.3790 sec.\n",
      "[uniswap_lp_data\\uniswap_lp_data_18.csv] First timestamp read in 0.0293 sec.\n",
      "[uniswap_lp_data\\uniswap_lp_data_18.csv] Last timestamp read in 0.3531 sec. (lines=56107)\n",
      "[uniswap_lp_data\\uniswap_lp_data_18.csv] Total file processed in 0.3824 sec.\n",
      "[uniswap_lp_data\\uniswap_lp_data_19.csv] First timestamp read in 0.0196 sec.\n",
      "[uniswap_lp_data\\uniswap_lp_data_19.csv] Last timestamp read in 0.3720 sec. (lines=58671)\n",
      "[uniswap_lp_data\\uniswap_lp_data_19.csv] Total file processed in 0.3916 sec.\n",
      "[uniswap_lp_data\\uniswap_lp_data_2.csv] First timestamp read in 0.0267 sec.\n",
      "[uniswap_lp_data\\uniswap_lp_data_2.csv] Last timestamp read in 0.5555 sec. (lines=87112)\n",
      "[uniswap_lp_data\\uniswap_lp_data_2.csv] Total file processed in 0.5822 sec.\n",
      "[uniswap_lp_data\\uniswap_lp_data_20.csv] First timestamp read in 0.0271 sec.\n",
      "[uniswap_lp_data\\uniswap_lp_data_20.csv] Last timestamp read in 0.5338 sec. (lines=84271)\n",
      "[uniswap_lp_data\\uniswap_lp_data_20.csv] Total file processed in 0.5610 sec.\n",
      "[uniswap_lp_data\\uniswap_lp_data_21.csv] First timestamp read in 0.0338 sec.\n",
      "[uniswap_lp_data\\uniswap_lp_data_21.csv] Last timestamp read in 0.5173 sec. (lines=81973)\n",
      "[uniswap_lp_data\\uniswap_lp_data_21.csv] Total file processed in 0.5511 sec.\n",
      "[uniswap_lp_data\\uniswap_lp_data_22.csv] First timestamp read in 0.0329 sec.\n",
      "[uniswap_lp_data\\uniswap_lp_data_22.csv] Last timestamp read in 0.4904 sec. (lines=78182)\n",
      "[uniswap_lp_data\\uniswap_lp_data_22.csv] Total file processed in 0.5233 sec.\n",
      "[uniswap_lp_data\\uniswap_lp_data_23.csv] First timestamp read in 0.0386 sec.\n",
      "[uniswap_lp_data\\uniswap_lp_data_23.csv] Last timestamp read in 0.5785 sec. (lines=90896)\n",
      "[uniswap_lp_data\\uniswap_lp_data_23.csv] Total file processed in 0.6171 sec.\n",
      "[uniswap_lp_data\\uniswap_lp_data_24.csv] First timestamp read in 0.0343 sec.\n",
      "[uniswap_lp_data\\uniswap_lp_data_24.csv] Last timestamp read in 0.4875 sec. (lines=75889)\n",
      "[uniswap_lp_data\\uniswap_lp_data_24.csv] Total file processed in 0.5218 sec.\n",
      "[uniswap_lp_data\\uniswap_lp_data_25.csv] First timestamp read in 0.0352 sec.\n",
      "[uniswap_lp_data\\uniswap_lp_data_25.csv] Last timestamp read in 0.6033 sec. (lines=93831)\n",
      "[uniswap_lp_data\\uniswap_lp_data_25.csv] Total file processed in 0.6384 sec.\n",
      "[uniswap_lp_data\\uniswap_lp_data_26.csv] First timestamp read in 0.0347 sec.\n",
      "[uniswap_lp_data\\uniswap_lp_data_26.csv] Last timestamp read in 0.8635 sec. (lines=126702)\n",
      "[uniswap_lp_data\\uniswap_lp_data_26.csv] Total file processed in 0.8982 sec.\n",
      "[uniswap_lp_data\\uniswap_lp_data_27.csv] First timestamp read in 0.0356 sec.\n",
      "[uniswap_lp_data\\uniswap_lp_data_27.csv] Last timestamp read in 0.6445 sec. (lines=103608)\n",
      "[uniswap_lp_data\\uniswap_lp_data_27.csv] Total file processed in 0.6816 sec.\n",
      "[uniswap_lp_data\\uniswap_lp_data_28.csv] First timestamp read in 0.0323 sec.\n",
      "[uniswap_lp_data\\uniswap_lp_data_28.csv] Last timestamp read in 0.9117 sec. (lines=142499)\n",
      "[uniswap_lp_data\\uniswap_lp_data_28.csv] Total file processed in 0.9440 sec.\n",
      "[uniswap_lp_data\\uniswap_lp_data_29.csv] First timestamp read in 0.0370 sec.\n",
      "[uniswap_lp_data\\uniswap_lp_data_29.csv] Last timestamp read in 0.6628 sec. (lines=104337)\n",
      "[uniswap_lp_data\\uniswap_lp_data_29.csv] Total file processed in 0.6998 sec.\n",
      "[uniswap_lp_data\\uniswap_lp_data_3.csv] First timestamp read in 0.0344 sec.\n",
      "[uniswap_lp_data\\uniswap_lp_data_3.csv] Last timestamp read in 0.6802 sec. (lines=105780)\n",
      "[uniswap_lp_data\\uniswap_lp_data_3.csv] Total file processed in 0.7146 sec.\n",
      "[uniswap_lp_data\\uniswap_lp_data_30.csv] First timestamp read in 0.0361 sec.\n",
      "[uniswap_lp_data\\uniswap_lp_data_30.csv] Last timestamp read in 0.6204 sec. (lines=96842)\n",
      "[uniswap_lp_data\\uniswap_lp_data_30.csv] Total file processed in 0.6566 sec.\n",
      "[uniswap_lp_data\\uniswap_lp_data_31.csv] First timestamp read in 0.0231 sec.\n",
      "[uniswap_lp_data\\uniswap_lp_data_31.csv] Last timestamp read in 0.0026 sec. (lines=3)\n",
      "[uniswap_lp_data\\uniswap_lp_data_31.csv] Total file processed in 0.0258 sec.\n",
      "[uniswap_lp_data\\uniswap_lp_data_4.csv] First timestamp read in 0.0288 sec.\n",
      "[uniswap_lp_data\\uniswap_lp_data_4.csv] Last timestamp read in 0.6051 sec. (lines=94486)\n",
      "[uniswap_lp_data\\uniswap_lp_data_4.csv] Total file processed in 0.6339 sec.\n",
      "[uniswap_lp_data\\uniswap_lp_data_5.csv] First timestamp read in 0.0306 sec.\n",
      "[uniswap_lp_data\\uniswap_lp_data_5.csv] Last timestamp read in 0.7053 sec. (lines=108366)\n",
      "[uniswap_lp_data\\uniswap_lp_data_5.csv] Total file processed in 0.7359 sec.\n",
      "[uniswap_lp_data\\uniswap_lp_data_6.csv] First timestamp read in 0.0327 sec.\n",
      "[uniswap_lp_data\\uniswap_lp_data_6.csv] Last timestamp read in 0.6516 sec. (lines=100246)\n",
      "[uniswap_lp_data\\uniswap_lp_data_6.csv] Total file processed in 0.6843 sec.\n",
      "[uniswap_lp_data\\uniswap_lp_data_7.csv] First timestamp read in 0.0265 sec.\n",
      "[uniswap_lp_data\\uniswap_lp_data_7.csv] Last timestamp read in 0.6485 sec. (lines=100548)\n",
      "[uniswap_lp_data\\uniswap_lp_data_7.csv] Total file processed in 0.6749 sec.\n",
      "[uniswap_lp_data\\uniswap_lp_data_8.csv] First timestamp read in 0.0389 sec.\n",
      "[uniswap_lp_data\\uniswap_lp_data_8.csv] Last timestamp read in 0.6534 sec. (lines=102355)\n",
      "[uniswap_lp_data\\uniswap_lp_data_8.csv] Total file processed in 0.6923 sec.\n",
      "[uniswap_lp_data\\uniswap_lp_data_9.csv] First timestamp read in 0.0283 sec.\n",
      "[uniswap_lp_data\\uniswap_lp_data_9.csv] Last timestamp read in 0.5554 sec. (lines=85828)\n",
      "[uniswap_lp_data\\uniswap_lp_data_9.csv] Total file processed in 0.5836 sec.\n",
      "[_event_gas_fees] No matching data found.\n",
      "Aggregated and filtered in 0.0000 sec.\n"
     ]
    },
    {
     "name": "stderr",
     "output_type": "stream",
     "text": [
      "  0%|          | 0/100 [00:20<?, ?it/s]"
     ]
    },
    {
     "name": "stdout",
     "output_type": "stream",
     "text": [
      "ETH price fetched in 1.5591 sec.\n",
      "[_event_gas_fees] Completed in 20.0533 seconds.\n",
      "[DONE] _event_gas_fees took 20.0550 seconds.\n"
     ]
    },
    {
     "name": "stderr",
     "output_type": "stream",
     "text": [
      "\n"
     ]
    },
    {
     "ename": "AttributeError",
     "evalue": "'UniswapV3LPGymEnv' object has no attribute 'eth_position_size'",
     "output_type": "error",
     "traceback": [
      "\u001b[1;31m---------------------------------------------------------------------------\u001b[0m",
      "\u001b[1;31mAttributeError\u001b[0m                            Traceback (most recent call last)",
      "Cell \u001b[1;32mIn[2], line 10\u001b[0m\n\u001b[0;32m      8\u001b[0m \u001b[38;5;28;01mfor\u001b[39;00m _ \u001b[38;5;129;01min\u001b[39;00m tqdm(\u001b[38;5;28mrange\u001b[39m(\u001b[38;5;241m100\u001b[39m)):\n\u001b[0;32m      9\u001b[0m     action \u001b[38;5;241m=\u001b[39m env\u001b[38;5;241m.\u001b[39maction_space\u001b[38;5;241m.\u001b[39msample() \n\u001b[1;32m---> 10\u001b[0m     next_state, reward, done, truncated, info \u001b[38;5;241m=\u001b[39m \u001b[43menv\u001b[49m\u001b[38;5;241;43m.\u001b[39;49m\u001b[43mstep\u001b[49m\u001b[43m(\u001b[49m\u001b[43maction\u001b[49m\u001b[43m)\u001b[49m\n\u001b[0;32m     11\u001b[0m     step_count \u001b[38;5;241m+\u001b[39m\u001b[38;5;241m=\u001b[39m \u001b[38;5;241m1\u001b[39m\n\u001b[0;32m     12\u001b[0m     cumulative_pnl_history\u001b[38;5;241m.\u001b[39mappend(env\u001b[38;5;241m.\u001b[39mcumulative_pnl)\n",
      "File \u001b[1;32md:\\Machine-learning-finance-and-complex-systems\\env_exper.py:289\u001b[0m, in \u001b[0;36mUniswapV3LPGymEnv.step\u001b[1;34m(self, action)\u001b[0m\n\u001b[0;32m    286\u001b[0m prev_timestamp \u001b[38;5;241m=\u001b[39m \u001b[38;5;28mself\u001b[39m\u001b[38;5;241m.\u001b[39mlast_timestamp\n\u001b[0;32m    287\u001b[0m current_timestamp \u001b[38;5;241m=\u001b[39m \u001b[38;5;28mself\u001b[39m\u001b[38;5;241m.\u001b[39mdecision_grid[\u001b[38;5;28mself\u001b[39m\u001b[38;5;241m.\u001b[39mcurrent_time_index]\n\u001b[1;32m--> 289\u001b[0m pnl \u001b[38;5;241m=\u001b[39m \u001b[38;5;28;43mself\u001b[39;49m\u001b[38;5;241;43m.\u001b[39;49m\u001b[43mcompute_pnl\u001b[49m\u001b[43m(\u001b[49m\u001b[43mcurrent_timestamp\u001b[49m\u001b[43m,\u001b[49m\u001b[43m \u001b[49m\u001b[43maction\u001b[49m\u001b[43m)\u001b[49m\n\u001b[0;32m    290\u001b[0m \u001b[38;5;28mself\u001b[39m\u001b[38;5;241m.\u001b[39mcumulative_pnl \u001b[38;5;241m+\u001b[39m\u001b[38;5;241m=\u001b[39m pnl\n\u001b[0;32m    292\u001b[0m \u001b[38;5;28mself\u001b[39m\u001b[38;5;241m.\u001b[39mlast_timestamp \u001b[38;5;241m=\u001b[39m current_timestamp\n",
      "File \u001b[1;32md:\\Machine-learning-finance-and-complex-systems\\env_exper.py:245\u001b[0m, in \u001b[0;36mUniswapV3LPGymEnv.compute_pnl\u001b[1;34m(self, current_timestamp, action)\u001b[0m\n\u001b[0;32m    240\u001b[0m     \u001b[38;5;28;01mif\u001b[39;00m next_action \u001b[38;5;241m==\u001b[39m \u001b[38;5;241m0\u001b[39m:\n\u001b[0;32m    241\u001b[0m         \u001b[38;5;28;01mreturn\u001b[39;00m \u001b[38;5;241m0\u001b[39m\n\u001b[0;32m    242\u001b[0m     \u001b[38;5;28;01mreturn\u001b[39;00m (\n\u001b[0;32m    243\u001b[0m         profile(\u001b[38;5;28mself\u001b[39m\u001b[38;5;241m.\u001b[39m_pool_fees) \n\u001b[0;32m    244\u001b[0m         \u001b[38;5;241m-\u001b[39m profile(\u001b[38;5;28mself\u001b[39m\u001b[38;5;241m.\u001b[39m_event_gas_fees, \u001b[38;5;124m\"\u001b[39m\u001b[38;5;124mMint\u001b[39m\u001b[38;5;124m\"\u001b[39m, current_timestamp) \n\u001b[1;32m--> 245\u001b[0m         \u001b[38;5;241m-\u001b[39m profile(\u001b[38;5;28mself\u001b[39m\u001b[38;5;241m.\u001b[39m_hedging_transaction_costs, current_timestamp, \u001b[38;5;28;43mself\u001b[39;49m\u001b[38;5;241;43m.\u001b[39;49m\u001b[43meth_position_size\u001b[49m[\u001b[38;5;241m-\u001b[39m\u001b[38;5;241m1\u001b[39m]) \n\u001b[0;32m    246\u001b[0m         \u001b[38;5;241m-\u001b[39m profile(\u001b[38;5;28mself\u001b[39m\u001b[38;5;241m.\u001b[39m_hedging_funding_rate, current_timestamp, \u001b[38;5;28mself\u001b[39m\u001b[38;5;241m.\u001b[39meth_position_size[\u001b[38;5;241m-\u001b[39m\u001b[38;5;241m1\u001b[39m]) \n\u001b[0;32m    247\u001b[0m         \u001b[38;5;241m-\u001b[39m profile(\u001b[38;5;28mself\u001b[39m\u001b[38;5;241m.\u001b[39m_impermanent_loss)\n\u001b[0;32m    248\u001b[0m     )\n\u001b[0;32m    250\u001b[0m \u001b[38;5;28;01mif\u001b[39;00m previous_action \u001b[38;5;241m==\u001b[39m \u001b[38;5;241m1\u001b[39m:\n\u001b[0;32m    251\u001b[0m     \u001b[38;5;28;01mif\u001b[39;00m next_action \u001b[38;5;241m==\u001b[39m \u001b[38;5;241m1\u001b[39m:\n",
      "\u001b[1;31mAttributeError\u001b[0m: 'UniswapV3LPGymEnv' object has no attribute 'eth_position_size'"
     ]
    }
   ],
   "source": [
    "from tqdm import tqdm\n",
    "\n",
    "cumulative_pnl_history = [env.cumulative_pnl]\n",
    "time_steps = [0]\n",
    "done = False\n",
    "step_count = 0\n",
    "\n",
    "for _ in tqdm(range(100)):\n",
    "    action = env.action_space.sample() \n",
    "    next_state, reward, done, truncated, info = env.step(action)\n",
    "    step_count += 1\n",
    "    cumulative_pnl_history.append(env.cumulative_pnl)\n",
    "    time_steps.append(step_count)\n",
    "\n",
    "env.close()"
   ]
  },
  {
   "cell_type": "code",
   "execution_count": null,
   "metadata": {},
   "outputs": [],
   "source": [
    "plt.figure(figsize=(10, 6))\n",
    "plt.plot(time_steps, cumulative_pnl_history, marker=\"o\", linestyle=\"-\")\n",
    "plt.xlabel(\"Time Step\")\n",
    "plt.ylabel(\"Cumulative PnL\")\n",
    "plt.title(\"Random Trading Agent: Cumulative PnL over Time\")\n",
    "plt.grid(True)\n",
    "plt.show()"
   ]
  }
 ],
 "metadata": {
  "kernelspec": {
   "display_name": "Python 3",
   "language": "python",
   "name": "python3"
  },
  "language_info": {
   "codemirror_mode": {
    "name": "ipython",
    "version": 3
   },
   "file_extension": ".py",
   "mimetype": "text/x-python",
   "name": "python",
   "nbconvert_exporter": "python",
   "pygments_lexer": "ipython3",
   "version": "3.12.2"
  }
 },
 "nbformat": 4,
 "nbformat_minor": 2
}
